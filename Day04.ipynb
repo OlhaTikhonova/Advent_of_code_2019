{
 "cells": [
  {
   "cell_type": "markdown",
   "metadata": {},
   "source": [
    "--- Day 4: Secure Container ---\n",
    "You arrive at the Venus fuel depot only to discover it's protected by a password. The Elves had written the password on a sticky note, but someone threw it out.\n",
    "\n",
    "However, they do remember a few key facts about the password:\n",
    "\n",
    "It is a six-digit number.\n",
    "The value is within the range given in your puzzle input.\n",
    "Two adjacent digits are the same (like 22 in 122345).\n",
    "Going from left to right, the digits never decrease; they only ever increase or stay the same (like 111123 or 135679).\n",
    "Other than the range rule, the following are true:\n",
    "\n",
    "111111 meets these criteria (double 11, never decreases).\n",
    "223450 does not meet these criteria (decreasing pair of digits 50).\n",
    "123789 does not meet these criteria (no double).\n",
    "How many different passwords within the range given in your puzzle input meet these criteria?\n",
    "\n",
    "--- Part Two ---\n",
    "An Elf just remembered one more important detail: the two adjacent matching digits are not part of a larger group of matching digits.\n",
    "\n",
    "Given this additional criterion, but still ignoring the range rule, the following are now true:\n",
    "\n",
    "112233 meets these criteria because the digits never decrease and all repeated digits are exactly two digits long.\n",
    "123444 no longer meets the criteria (the repeated 44 is part of a larger group of 444).\n",
    "111122 meets the criteria (even though 1 is repeated more than twice, it still contains a double 22).\n",
    "How many different passwords within the range given in your puzzle input meet all of the criteria?"
   ]
  },
  {
   "cell_type": "code",
   "execution_count": 15,
   "metadata": {},
   "outputs": [
    {
     "name": "stdout",
     "output_type": "stream",
     "text": [
      "495\n"
     ]
    }
   ],
   "source": [
    "#Part1\n",
    "count=0\n",
    "for i in range(367479,893698):\n",
    "    i=str(i)\n",
    "    if i[0] == i[1] or i[1]==i[2] or i[2]==i[3] or i[3]==i[4] or i[4]==i[5]:\n",
    "        if i[0] <= i[1] and i[1]<=i[2] and i[2]<=i[3] and i[3]<=i[4] and i[4]<=i[5]:\n",
    "            count +=1\n",
    "print(count)\n"
   ]
  },
  {
   "cell_type": "code",
   "execution_count": 54,
   "metadata": {},
   "outputs": [
    {
     "name": "stdout",
     "output_type": "stream",
     "text": [
      "305\n"
     ]
    }
   ],
   "source": [
    "#Part2\n",
    "count=0\n",
    "for i in range(367479,893698):\n",
    "    i=str(i)\n",
    "    if i[0] <= i[1] and i[1]<=i[2] and i[2]<=i[3] and i[3]<=i[4] and i[4]<=i[5]:\n",
    "        if  i[0] == i[1] and i[1]!=i[2]:\n",
    "            count+=1\n",
    "        elif i[1]==i[2] and i[1]!=i[0] and i[2]!=i[3]:\n",
    "            count+=1\n",
    "        elif i[2]==i[3] and i[2]!=i[1] and i[3]!=i[4]:\n",
    "            count+=1\n",
    "        elif i[3]==i[4] and i[3]!=i[2] and i[4]!=i[5]:\n",
    "            count+=1\n",
    "        elif i[4]==i[5] and i[4]!=i[3]:\n",
    "            count+=1\n",
    "print(count)"
   ]
  }
 ],
 "metadata": {
  "kernelspec": {
   "display_name": "Python 3",
   "language": "python",
   "name": "python3"
  },
  "language_info": {
   "codemirror_mode": {
    "name": "ipython",
    "version": 3
   },
   "file_extension": ".py",
   "mimetype": "text/x-python",
   "name": "python",
   "nbconvert_exporter": "python",
   "pygments_lexer": "ipython3",
   "version": "3.7.3"
  }
 },
 "nbformat": 4,
 "nbformat_minor": 2
}

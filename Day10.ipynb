{
 "cells": [
  {
   "cell_type": "markdown",
   "metadata": {},
   "source": [
    "--- Day 10: Monitoring Station ---\n",
    "You fly into the asteroid belt and reach the Ceres monitoring station. The Elves here have an emergency: they're having trouble tracking all of the asteroids and can't be sure they're safe.\n",
    "\n",
    "The Elves would like to build a new monitoring station in a nearby area of space; they hand you a map of all of the asteroids in that region (your puzzle input).\n",
    "\n",
    "The map indicates whether each position is empty (.) or contains an asteroid (#). The asteroids are much smaller than they appear on the map, and every asteroid is exactly in the center of its marked position. The asteroids can be described with X,Y coordinates where X is the distance from the left edge and Y is the distance from the top edge (so the top-left corner is 0,0 and the position immediately to its right is 1,0).\n",
    "\n",
    "Your job is to figure out which asteroid would be the best place to build a new monitoring station. A monitoring station can detect any asteroid to which it has direct line of sight - that is, there cannot be another asteroid exactly between them. This line of sight can be at any angle, not just lines aligned to the grid or diagonally. The best location is the asteroid that can detect the largest number of other asteroids.\n",
    "\n",
    "Find the best location for a new monitoring station. How many other asteroids can be detected from that location?\n",
    "\n",
    "--- Part Two ---\n",
    "Once you give them the coordinates, the Elves quickly deploy an Instant Monitoring Station to the location and discover the worst: there are simply too many asteroids.\n",
    "\n",
    "The only solution is complete vaporization by giant laser.\n",
    "\n",
    "Fortunately, in addition to an asteroid scanner, the new monitoring station also comes equipped with a giant rotating laser perfect for vaporizing asteroids. The laser starts by pointing up and always rotates clockwise, vaporizing any asteroid it hits.\n",
    "\n",
    "If multiple asteroids are exactly in line with the station, the laser only has enough power to vaporize one of them before continuing its rotation. In other words, the same asteroids that can be detected can be vaporized, but if vaporizing one asteroid makes another one detectable, the newly-detected asteroid won't be vaporized until the laser has returned to the same position by rotating a full 360 degrees.\n",
    "The Elves are placing bets on which will be the 200th asteroid to be vaporized. Win the bet by determining which asteroid that will be; what do you get if you multiply its X coordinate by 100 and then add its Y coordinate? (For example, 8,2 becomes 802.)"
   ]
  },
  {
   "cell_type": "code",
   "execution_count": 1,
   "metadata": {},
   "outputs": [
    {
     "name": "stdout",
     "output_type": "stream",
     "text": [
      "#..#.#.#.######..#.#...##\n",
      "##.#..#.#..##.#..######.#\n",
      ".#.##.#..##..#.#.####.#..\n",
      ".#..##.#.#..#.#...#...#.#\n",
      "#...###.##.##..##...#..#.\n",
      "##..#.#.#.###...#.##..#.#\n",
      "###.###.#.##.##....#####.\n",
      ".#####.#.#...#..#####..#.\n",
      ".#.##...#.#...#####.##...\n",
      "######.#..##.#..#.#.#....\n",
      "###.##.#######....##.#..#\n",
      ".####.##..#.##.#.#.##...#\n",
      "##...##.######..##..#.###\n",
      "...###...#..#...#.###..#.\n",
      ".#####...##..#..#####.###\n",
      ".#####..#.#######.###.##.\n",
      "#...###.####.##.##.#.##.#\n",
      ".#.#.#.#.#.##.#..#.#..###\n",
      "##.#.####.###....###..##.\n",
      "#..##.#....#..#..#.#..#.#\n",
      "##..#..#...#..##..####..#\n",
      "....#.....##..#.##.#...##\n",
      ".##..#.#..##..##.#..##..#\n",
      ".##..#####....#####.#.#.#\n",
      "#..#..#..##...#..#.#.#.##\n"
     ]
    }
   ],
   "source": [
    "with open('input_advent_10.txt','r') as file:\n",
    "    (x,y)=(0,0)\n",
    "    canvas= set()\n",
    "    file_content=file.readline().strip()\n",
    "    while file_content:\n",
    "        print(file_content)\n",
    "        for symbol in file_content:\n",
    "            if symbol=='#':\n",
    "                canvas.add((x,y))\n",
    "            x+=1\n",
    "        y+=1\n",
    "        x=0\n",
    "        file_content=file.readline().strip()\n",
    "    "
   ]
  },
  {
   "cell_type": "code",
   "execution_count": 2,
   "metadata": {},
   "outputs": [
    {
     "name": "stdout",
     "output_type": "stream",
     "text": [
      "((11, 19), 253)\n"
     ]
    }
   ],
   "source": [
    "#Part1\n",
    "result=0\n",
    "import math\n",
    "for queue_el in canvas:\n",
    "    angels=set()\n",
    "    for (x,y) in canvas:\n",
    "        theta = math.atan2(y-queue_el[1], x-queue_el[0])\n",
    "        angels.add(theta)\n",
    "    if result<len(angels):\n",
    "        result=len(angels)\n",
    "        result_asteroid =(queue_el, len(angels))\n",
    "print(result_asteroid)"
   ]
  },
  {
   "cell_type": "code",
   "execution_count": 3,
   "metadata": {},
   "outputs": [
    {
     "name": "stdout",
     "output_type": "stream",
     "text": [
      "(8, 15)\n",
      "815\n"
     ]
    }
   ],
   "source": [
    "#Part2\n",
    "from collections import defaultdict,OrderedDict\n",
    "import math\n",
    "\n",
    "def distance(x1,y1,x2,y2):  \n",
    "    dist = math.sqrt((x2 - x1)**2 + (y2 - y1)**2)  \n",
    "    return dist \n",
    "\n",
    "ang_len = defaultdict(list)\n",
    "(x1,y1)=result_asteroid[0]\n",
    "for (x2,y2) in canvas:\n",
    "    theta = math.atan2(y1-y2, x1-x2) - math.radians(90)\n",
    "    theta = theta % math.radians(360)\n",
    "    ang_len[theta].append((distance(x1, y1, x2, y2),(x2,y2)))\n",
    "ordered = OrderedDict(sorted(ang_len.items()))  \n",
    "count=0\n",
    "while count < 200:\n",
    "    for (angle, asteroids) in ordered.items():\n",
    "        if len(asteroids)>=1:\n",
    "            asteroids.sort()\n",
    "            (d, (x_r,y_r)) = asteroids.pop(0)\n",
    "            count+=1\n",
    "        if count == 200:\n",
    "            break\n",
    "                \n",
    "print((x_r,y_r))\n",
    "print(x_r*100+y_r)"
   ]
  },
  {
   "cell_type": "code",
   "execution_count": 4,
   "metadata": {},
   "outputs": [
    {
     "name": "stdout",
     "output_type": "stream",
     "text": [
      ".#..##.###...#######\n",
      "##.############..##.\n",
      ".#.######.########.#\n",
      ".###.#######.####.#.\n",
      "#####.##.#.##.###.##\n",
      "..#####..#.#########\n",
      "####################\n",
      "#.####....###.#.#.##\n",
      "##.#################\n",
      "#####.##.###..####..\n",
      "..######..##.#######\n",
      "####.##.####...##..#\n",
      ".#####..#.######.###\n",
      "##...#.##########...\n",
      "#.##########.#######\n",
      ".####.#.###.###.#.##\n",
      "....##.##.###..#####\n",
      ".#.#.###########.###\n",
      "#.#.#.#####.####.###\n",
      "###.##.####.##.#..##\n",
      "result_location:  ((11, 13), 210)\n",
      "(10, 16)\n",
      "1016\n"
     ]
    }
   ],
   "source": [
    "#Test\n",
    "with open('test_10.txt','r') as file:\n",
    "    (x,y)=(0,0)\n",
    "    canvas= set()\n",
    "    file_content=file.readline().strip()\n",
    "    while file_content:\n",
    "        print(file_content)\n",
    "        for symbol in file_content:\n",
    "            if symbol=='#':\n",
    "                canvas.add((x,y))\n",
    "            x+=1\n",
    "        y+=1\n",
    "        x=0\n",
    "        file_content=file.readline().strip()\n",
    "        \n",
    "#Part1\n",
    "result=0\n",
    "import math\n",
    "for queue_el in canvas:\n",
    "    angels=set()\n",
    "    for (x,y) in canvas:\n",
    "        theta = math.atan2(y-queue_el[1], x-queue_el[0])\n",
    "        angels.add(theta)\n",
    "    if result<len(angels):\n",
    "        result=len(angels)\n",
    "        result_asteroid =(queue_el, len(angels))\n",
    "print(\"result_location: \",result_asteroid)\n",
    "#Part2\n",
    "from collections import defaultdict,OrderedDict\n",
    "import math\n",
    "\n",
    "def distance(x1,y1,x2,y2):  \n",
    "    dist = math.sqrt((x2 - x1)**2 + (y2 - y1)**2)  \n",
    "    return dist \n",
    "\n",
    "ang_len = defaultdict(list)\n",
    "(x1,y1)=result_asteroid[0]\n",
    "for (x2,y2) in canvas:\n",
    "    theta = math.atan2(y1-y2, x1-x2) - math.radians(90)\n",
    "    theta = theta % math.radians(360)\n",
    "    ang_len[theta].append((distance(x1, y1, x2, y2),(x2,y2)))\n",
    "ordered = OrderedDict(sorted(ang_len.items()))  \n",
    "count=0\n",
    "while count < 100:\n",
    "    for (angle, asteroids) in ordered.items():\n",
    "        if len(asteroids)>=1:\n",
    "            asteroids.sort()\n",
    "            (d, (x_r,y_r)) = asteroids.pop(0)\n",
    "            count+=1\n",
    "        if count == 100:\n",
    "            break\n",
    "                \n",
    "print((x_r,y_r))\n",
    "print(x_r*100+y_r)"
   ]
  },
  {
   "cell_type": "code",
   "execution_count": 5,
   "metadata": {},
   "outputs": [
    {
     "data": {
      "text/plain": [
       "(12, 8)"
      ]
     },
     "execution_count": 5,
     "metadata": {},
     "output_type": "execute_result"
    }
   ],
   "source": [
    "#TEST RESULTS SHOULD BE:\n",
    "count=200\n",
    "(x,y)=(8,2)\n",
    "\n",
    "count=1\n",
    "(x,y)=(11,12)\n",
    "\n",
    "count=2\n",
    "(x,y)=(12,1)\n",
    "\n",
    "count=100\n",
    "(x,y)=(10,16)\n",
    "\n",
    "count=10\n",
    "(12,8)"
   ]
  }
 ],
 "metadata": {
  "kernelspec": {
   "display_name": "Python 3",
   "language": "python",
   "name": "python3"
  },
  "language_info": {
   "codemirror_mode": {
    "name": "ipython",
    "version": 3
   },
   "file_extension": ".py",
   "mimetype": "text/x-python",
   "name": "python",
   "nbconvert_exporter": "python",
   "pygments_lexer": "ipython3",
   "version": "3.7.3"
  }
 },
 "nbformat": 4,
 "nbformat_minor": 2
}

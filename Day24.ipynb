{
 "cells": [
  {
   "cell_type": "code",
   "execution_count": null,
   "metadata": {},
   "outputs": [],
   "source": [
    "--- Day 24: Planet of Discord ---\n",
    "You land on Eris, your last stop before reaching Santa. As soon as you do, your sensors start picking up strange life forms moving around: Eris is infested with bugs! With an over 24-hour roundtrip for messages between you and Earth, you'll have to deal with this problem on your own.\n",
    "\n",
    "Eris isn't a very large place; a scan of the entire area fits into a 5x5 grid (your puzzle input). The scan shows bugs (#) and empty spaces (.).\n",
    "\n",
    "Each minute, The bugs live and die based on the number of bugs in the four adjacent tiles:\n",
    "\n",
    "A bug dies (becoming an empty space) unless there is exactly one bug adjacent to it.\n",
    "An empty space becomes infested with a bug if exactly one or two bugs are adjacent to it.\n",
    "Otherwise, a bug or empty space remains the same. (Tiles on the edges of the grid have fewer than four adjacent tiles; the missing tiles count as empty space.) This process happens in every location simultaneously; that is, within the same minute, the number of adjacent bugs is counted for every tile first, and then the tiles are updated.\n",
    "To calculate the biodiversity rating for this layout, consider each tile left-to-right in the top row, then left-to-right in the second row, and so on. Each of these tiles is worth biodiversity points equal to increasing powers of two: 1, 2, 4, 8, 16, 32, and so on. Add up the biodiversity points for tiles with bugs; in this example, the 16th tile (32768 points) and 22nd tile (2097152 points) have bugs, a total biodiversity rating of 2129920.\n",
    "\n",
    "What is the biodiversity rating for the first layout that appears twice?"
   ]
  },
  {
   "cell_type": "code",
   "execution_count": 13,
   "metadata": {},
   "outputs": [
    {
     "name": "stdout",
     "output_type": "stream",
     "text": [
      ".#.##\n",
      "...#.\n",
      "....#\n",
      ".#...\n",
      "..#..\n",
      "18842609\n"
     ]
    }
   ],
   "source": [
    "with open('day24.txt','r') as file:\n",
    "    (x,y)=(0,0)\n",
    "    canvas= dict()\n",
    "    file_content=file.readline().strip()\n",
    "    while file_content:\n",
    "        print(file_content)\n",
    "        for symbol in file_content:\n",
    "            if symbol=='#':\n",
    "                canvas[(x,y)] = '#'\n",
    "            elif symbol=='.':\n",
    "                canvas[(x,y)] = '.'\n",
    "            x+=1\n",
    "        y+=1\n",
    "        x=0\n",
    "        file_content=file.readline().strip()\n",
    "\n",
    "\n",
    "from collections import defaultdict\n",
    "\n",
    "def new_layout(canvas):\n",
    "    canvas_new= dict()\n",
    "\n",
    "    for (x,y),v in canvas.items():\n",
    "        count_bug=0\n",
    "        if (x+1,y) in canvas and canvas[(x+1,y)] == '#':\n",
    "            count_bug+=1\n",
    "        if (x-1,y) in canvas and canvas[(x-1,y)]=='#':\n",
    "            count_bug+=1\n",
    "        if (x,y+1) in canvas and canvas[(x,y+1)]=='#':\n",
    "            count_bug+=1\n",
    "        if (x,y-1) in canvas and canvas[(x,y-1)]=='#':\n",
    "            count_bug+=1\n",
    "        \n",
    "        if v == '#':\n",
    "            if count_bug==1:\n",
    "                canvas_new[(x,y)] = '#'\n",
    "            else: \n",
    "                canvas_new[(x,y)] = '.'\n",
    "          \n",
    "        if v == '.':\n",
    "            if count_bug==1 or count_bug==2:\n",
    "                canvas_new[(x,y)] = '#'\n",
    "            else: \n",
    "                canvas_new[(x,y)] = '.'\n",
    "\n",
    "    return canvas_new\n",
    "diversity_list=set()\n",
    "while True: \n",
    "    \n",
    "    diversity=0        \n",
    "    for raw in range(0,5):\n",
    "        for column in range(0,5):\n",
    "            pos=(column,raw)\n",
    "            if pos in canvas:\n",
    "                painted=canvas[pos]\n",
    "                if painted=='#':\n",
    "                    diversity+=2**(column+raw*5)\n",
    "    if diversity in diversity_list:\n",
    "        print(diversity)\n",
    "        break\n",
    "    diversity_list.add(diversity)\n",
    "    canvas=new_layout(canvas)\n",
    "\n",
    "       \n",
    "        \n"
   ]
  }
 ],
 "metadata": {
  "kernelspec": {
   "display_name": "Python 3",
   "language": "python",
   "name": "python3"
  },
  "language_info": {
   "codemirror_mode": {
    "name": "ipython",
    "version": 3
   },
   "file_extension": ".py",
   "mimetype": "text/x-python",
   "name": "python",
   "nbconvert_exporter": "python",
   "pygments_lexer": "ipython3",
   "version": "3.7.3"
  }
 },
 "nbformat": 4,
 "nbformat_minor": 2
}

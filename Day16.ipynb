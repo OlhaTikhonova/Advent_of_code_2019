{
 "cells": [
  {
   "cell_type": "markdown",
   "metadata": {},
   "source": [
    "--- Day 16: Flawed Frequency Transmission ---\n",
    "You're 3/4ths of the way through the gas giants. Not only do roundtrip signals to Earth take five hours, but the signal quality is quite bad as well. You can clean up the signal with the Flawed Frequency Transmission algorithm, or FFT.\n",
    "\n",
    "As input, FFT takes a list of numbers. In the signal you received (your puzzle input), each number is a single digit: data like 15243 represents the sequence 1, 5, 2, 4, 3.\n",
    "\n",
    "FFT operates in repeated phases. In each phase, a new list is constructed with the same length as the input list. This new list is also used as the input for the next phase.\n",
    "\n",
    "Each element in the new list is built by multiplying every value in the input list by a value in a repeating pattern and then adding up the results. So, if the input list were 9, 8, 7, 6, 5 and the pattern for a given element were 1, 2, 3, the result would be 9*1 + 8*2 + 7*3 + 6*1 + 5*2 (with each input element on the left and each value in the repeating pattern on the right of each multiplication). Then, only the ones digit is kept: 38 becomes 8, -17 becomes 7, and so on.\n",
    "\n",
    "While each element in the output array uses all of the same input array elements, the actual repeating pattern to use depends on which output element is being calculated. The base pattern is 0, 1, 0, -1. Then, repeat each value in the pattern a number of times equal to the position in the output list being considered. Repeat once for the first element, twice for the second element, three times for the third element, and so on. So, if the third element of the output list is being calculated, repeating the values would produce: 0, 0, 0, 1, 1, 1, 0, 0, 0, -1, -1, -1.\n",
    "\n",
    "When applying the pattern, skip the very first value exactly once. (In other words, offset the whole pattern left by one.) So, for the second element of the output list, the actual pattern used would be: 0, 1, 1, 0, 0, -1, -1, 0, 0, 1, 1, 0, 0, -1, -1, ....\n",
    "\n",
    "After using this process to calculate each element of the output list, the phase is complete, and the output list of this phase is used as the new input list for the next phase, if any.\n",
    "\n",
    "\n",
    "After 100 phases of FFT, what are the first eight digits in the final output list?\n",
    "\n",
    "--- Part Two ---\n",
    "Now that your FFT is working, you can decode the real signal.\n",
    "\n",
    "The real signal is your puzzle input repeated 10000 times. Treat this new signal as a single input list. Patterns are still calculated as before, and 100 phases of FFT are still applied.\n",
    "\n",
    "The first seven digits of your initial input signal also represent the message offset. The message offset is the location of the eight-digit message in the final output list. Specifically, the message offset indicates the number of digits to skip before reading the eight-digit message. For example, if the first seven digits of your initial input signal were 1234567, the eight-digit message would be the eight digits after skipping 1,234,567 digits of the final output list. Or, if the message offset were 7 and your final output list were 98765432109876543210, the eight-digit message would be 21098765. (Of course, your real message offset will be a seven-digit number, not a one-digit number like 7.)\n",
    "\n",
    "Here is the eight-digit message in the final output list after 100 phases. The message offset given in each input has been highlighted. (Note that the inputs given below are repeated 10000 times to find the actual starting input lists.)\n",
    "\n",
    "03036732577212944063491565474664 becomes 84462026.\n",
    "02935109699940807407585447034323 becomes 78725270.\n",
    "03081770884921959731165446850517 becomes 53553731.\n",
    "After repeating your input signal 10000 times and running 100 phases of FFT, what is the eight-digit message embedded in the final output list?"
   ]
  },
  {
   "cell_type": "code",
   "execution_count": 20,
   "metadata": {},
   "outputs": [
    {
     "name": "stdout",
     "output_type": "stream",
     "text": [
      "82525123\n"
     ]
    }
   ],
   "source": [
    "list_string='59708372326282850478374632294363143285591907230244898069506559289353324363446827480040836943068215774680673708005813752468017892971245448103168634442773462686566173338029941559688604621181240586891859988614902179556407022792661948523370366667688937217081165148397649462617248164167011250975576380324668693910824497627133242485090976104918375531998433324622853428842410855024093891994449937031688743195134239353469076295752542683739823044981442437538627404276327027998857400463920633633578266795454389967583600019852126383407785643022367809199144154166725123539386550399024919155708875622641704428963905767166129198009532884347151391845112189952083025'\n",
    "base_pattern=[0, 1, 0, -1]\n",
    "list_num=[]\n",
    "for i in range(len(list_string)):\n",
    "    list_num.append(int(list_string[i]))\n",
    "list_num=10000*list_num\n",
    "def fun_list(list_num):\n",
    "    base_pattern=[0, 1, 0, -1]\n",
    "    base_pattern_new=[]\n",
    "    input_list=[]\n",
    "    for n in range(len(list_num)):\n",
    "        for i in range(len(base_pattern)):\n",
    "            k=[base_pattern[i]]*(n+1)\n",
    "            base_pattern_new.extend(k)\n",
    "        while (len(base_pattern_new))<=(len(list_num)):\n",
    "            base_pattern_new.extend(base_pattern_new)\n",
    "        base_pattern_new.pop(0)\n",
    "        multiplication=str(sum([x * y for x, y in zip(list_num, base_pattern_new)]))\n",
    "        multiplication=int(multiplication[-1])\n",
    "        input_list.append(multiplication)\n",
    "        base_pattern_new=[]\n",
    "    return input_list\n",
    "count=0\n",
    "while count<100:\n",
    "    (list_num)=(fun_list(list_num))\n",
    "    count+=1\n",
    "print(\"\".join(map(str, list_num[:8])))"
   ]
  },
  {
   "cell_type": "code",
   "execution_count": 80,
   "metadata": {},
   "outputs": [
    {
     "name": "stdout",
     "output_type": "stream",
     "text": [
      "[4, 9, 4, 7, 6, 2, 6, 0]\n"
     ]
    }
   ],
   "source": [
    "list_string='59708372326282850478374632294363143285591907230244898069506559289353324363446827480040836943068215774680673708005813752468017892971245448103168634442773462686566173338029941559688604621181240586891859988614902179556407022792661948523370366667688937217081165148397649462617248164167011250975576380324668693910824497627133242485090976104918375531998433324622853428842410855024093891994449937031688743195134239353469076295752542683739823044981442437538627404276327027998857400463920633633578266795454389967583600019852126383407785643022367809199144154166725123539386550399024919155708875622641704428963905767166129198009532884347151391845112189952083025'\n",
    "base_pattern=[0, 1, 0, -1]\n",
    "list_num=[]\n",
    "for i in range(len(list_string)):\n",
    "    list_num.append(int(list_string[i]))\n",
    "list_num=10000*list_num\n",
    "offset=int(\"\".join(map(str, list_num[:7])))\n",
    "assert offset> len(list_num)//2\n",
    "for i in range(100):\n",
    "    pos=len(list_num)-1\n",
    "    total=0\n",
    "    while pos>=offset:\n",
    "        total+=list_num[pos]\n",
    "        last_digit=(str(total))\n",
    "        last_digit=last_digit[-1]\n",
    "        list_num[pos]=int(last_digit)\n",
    "        pos-=1\n",
    "print(list_num[offset:offset+8])"
   ]
  },
  {
   "cell_type": "code",
   "execution_count": 78,
   "metadata": {},
   "outputs": [
    {
     "name": "stdout",
     "output_type": "stream",
     "text": [
      "3\n"
     ]
    }
   ],
   "source": [
    "total=23\n",
    "last_digit=(str(total))\n",
    "last_digit=last_digit[-1]\n",
    "print(last_digit)"
   ]
  },
  {
   "cell_type": "code",
   "execution_count": 81,
   "metadata": {},
   "outputs": [
    {
     "name": "stdout",
     "output_type": "stream",
     "text": [
      "49476260\n"
     ]
    }
   ],
   "source": [
    "result=[4, 9, 4, 7, 6, 2, 6, 0]\n",
    "print(\"\".join(map(str, result)))"
   ]
  },
  {
   "cell_type": "code",
   "execution_count": null,
   "metadata": {},
   "outputs": [],
   "source": []
  }
 ],
 "metadata": {
  "kernelspec": {
   "display_name": "Python 3",
   "language": "python",
   "name": "python3"
  },
  "language_info": {
   "codemirror_mode": {
    "name": "ipython",
    "version": 3
   },
   "file_extension": ".py",
   "mimetype": "text/x-python",
   "name": "python",
   "nbconvert_exporter": "python",
   "pygments_lexer": "ipython3",
   "version": "3.7.3"
  }
 },
 "nbformat": 4,
 "nbformat_minor": 2
}
